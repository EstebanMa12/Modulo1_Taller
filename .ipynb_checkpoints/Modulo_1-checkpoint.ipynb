{
 "cells": [
  {
   "cell_type": "markdown",
   "id": "4362c894",
   "metadata": {},
   "source": [
    "## Módulo sobre la lógica, lógica de programación y programación con Javascript\n"
   ]
  },
  {
   "cell_type": "markdown",
   "id": "2565d0aa",
   "metadata": {},
   "source": [
    "### PREGUNTAS TEÓRICAS"
   ]
  },
  {
   "cell_type": "markdown",
   "id": "2124ffa7",
   "metadata": {},
   "source": [
    "1. ¿Qué es la lógica en el contexto de la programación?\n",
    "\n",
    "La lógica en el contexto de la programación es el saber cómo y en que momento implementar los algoritmos para resolver un problema, sin importar si se utiliza una u otra técnica o lenguaje de programación. Es decir, es el conocimiento del pensamiento lógico y su aplicación a la solución de problemas informáticos.\n",
    "Es importante en el desarrollo front end para de esta manera poder crear aplicaciones web que sean responsivas y adaptables a diferentes dispositivos, es decir, pantallas pequeñas o grandes. En este sentido, los usuarios pueden tener una experiencia de usuario más satisfactoria al interactuar con su aplicación en cualquier momento y lugar.\n"
   ]
  },
  {
   "cell_type": "markdown",
   "id": "8f40a8a0",
   "metadata": {},
   "source": [
    "2. definir el concepto \"algoritmo\"  y proporcionar un ejemplo sencillo de un algoritmo relacionado con la lógica de programación.\n",
    "\n",
    "Un algoritmo es una secuencia de pasos que se repiten para resolver un problema.\n",
    "En este caso, el problema consiste en encontrar la suma de los números del 1 al 50 y mostrarla por pantalla.\n",
    "Para lograrlo, podemos utilizar un bucle for que itere desde el número uno hasta el cincuenta. En cada iteración, agregaremos el valor actual a una variable llamada \"suma\". Finalmente, imprimiremos el resultado por pantalla."
   ]
  },
  {
   "cell_type": "code",
   "execution_count": 1,
   "id": "66850032",
   "metadata": {},
   "outputs": [
    {
     "name": "stdout",
     "output_type": "stream",
     "text": [
      "1275\n"
     ]
    }
   ],
   "source": [
    "\n",
    "let suma = 0;\n",
    "for(let i = 0; i <= 50; i++) {\n",
    "    suma += i;\n",
    "}\n",
    "console.log(suma);"
   ]
  },
  {
   "cell_type": "markdown",
   "id": "d11744f7",
   "metadata": {},
   "source": [
    " 3. ¿Qué son estructuras de control en la programación?, ¿Cuáles son los tipos de estructuras de control y las estructuras más comunes de cada tipo?, Describir al menos \n",
    "dos tipos de estructura de control, explicar por qué son importantes y proporcionar ejemplos de cada uno de cómo se utilizan en el desarrollo web Frontend.\n",
    "\n",
    "Son mecanismos que permiten a un programa tomar acciones diferentes en función de los valores de variables, es el control de flujo.\n",
    "En este apartado se presentan dos tipos de control de flujo:\n",
    "- El control condicional (if) y su variante else if.\n",
    "- El bucle while.\n",
    "#### Control Condicional (If) ####\n",
    "Este condicional permite al programador idear una logica basada en valores que esten dentro del condicional para realizar acciones o no realizarlas. Es decir, si la variable cumple con cierta condición, realiza tal acción; si no lo cumple, realiza otra acción.\n",
    "Este condicional es importante en la programación Frontend puesto a que permite ejecutar bloques de código solo si una determinada condición es verdadera, lo que evita errores o inconsistencias en el resultado final del programa.\n",
    "\n",
    "#### Bucle while ####\n",
    "El bucle while funciona como un bucle infinito, pero con la capacidad de pararse cuando cumpla una condición.\n",
    "El bucle while es importante en la programación Frontend debido a que se puede ejecutar ciertas acciones mientras que se tiene control sobre las variables que se estan evaluando\n",
    "\n",
    "\n"
   ]
  },
  {
   "cell_type": "code",
   "execution_count": 1,
   "id": "79f1cd33",
   "metadata": {},
   "outputs": [
    {
     "name": "stdout",
     "output_type": "stream",
     "text": [
      "650\n"
     ]
    }
   ],
   "source": [
    "// El siguiente codigo solo suma los numeros que son pares\n",
    "let suma = 0;\n",
    "for(let i = 0; i <= 50; i++) {\n",
    "    if(i % 2 == 0) {\n",
    "        suma += i;\n",
    "    }\n",
    "}\n",
    "console.log(suma);"
   ]
  },
  {
   "cell_type": "code",
   "execution_count": 4,
   "id": "9e3a0275",
   "metadata": {},
   "outputs": [
    {
     "name": "stdout",
     "output_type": "stream",
     "text": [
      "Iteración 1\n",
      "Iteración 2\n",
      "Iteración 3\n",
      "Iteración 4\n",
      "Iteración 5\n",
      "Bucle while terminado\n"
     ]
    }
   ],
   "source": [
    "// Inicializamos una variable\n",
    "let contador = 1;\n",
    "// Usamos un bucle while que se ejecutará mientras contador sea menor o igual a 5\n",
    "while (contador <= 5) {\n",
    "    console.log(\"Iteración \" + contador);\n",
    "  // Incrementamos el contador en cada iteración\n",
    "    contador++;\n",
    "}\n",
    "\n",
    "console.log(\"Bucle while terminado\");\n"
   ]
  },
  {
   "cell_type": "markdown",
   "id": "b4cfb80d",
   "metadata": {},
   "source": [
    "4. Describir cómo se declaraban variables y constantes en JavaScript antes de la introducción de ECMAScript 6 (ES6). Explicar cómo ES6 mejoró la declaración de variables y constantes, y mencionar los problemas que esta mejora resuelve en el desarrollo web Frontend.\n",
    "\n",
    "Antes de la introducción de ECMAScript 6 (ES6), las variables en JavaScript se declaraban utilizando la palabra clave `var`. No existía una forma directa de declarar constantes\n",
    "\n",
    "Con la introducción de ES6, se introdujeron dos nuevas formas de declarar variables: `let` y `const`. `let` se utiliza para declarar variables cuyo valor puede cambiar, mientras que `const` se utiliza para declarar constantes, cuyo valor no puede ser reasignado una vez establecido.\n",
    "\n",
    "Estas mejoras resuelven varios problemas en el desarrollo web Frontend:\n",
    "\n",
    "- **Alcance de bloque:** A diferencia de `var`, que tiene un alcance de función, `let` y `const` tienen un alcance de bloque, lo que significa que solo existen dentro del bloque en el que se declaran. Esto puede ayudar a evitar errores causados por la reutilización accidental de nombres de variables.\n",
    "\n",
    "- **Constantes:** La capacidad de declarar constantes con `const` puede ayudar a prevenir errores causados por la reasignación accidental de valores que no deberían cambiar.\n",
    "\n",
    "- **Hoisting:** Las variables declaradas con `var` son \"elevadas\" al inicio de su función, lo que significa que pueden ser referenciadas antes de que se declaren. Esto puede causar confusión y errores. `let` y `const` no se elevan de esta manera, lo que significa que deben ser declaradas antes de ser referenciadas.\n"
   ]
  },
  {
   "cell_type": "markdown",
   "id": "003cf306",
   "metadata": {},
   "source": [
    "5. ¿Cómo se declaran las funciones en JavaScript y cuál es la diferencia entre una declaración de función, una expresión de función y una función de flecha (arrow function)? Proporcionar ejemplos de cada una\n",
    "\n",
    "\n",
    "- **Declaración de función:** Se utiliza la palabra clave `function` seguida del nombre de la función, paréntesis para los argumentos y llaves para el cuerpo de la función. La función realiza operaciones dentro de su cuerpo y puede devolver un resultado utilizando la palabra clave `return`.\n",
    "\n",
    "```JAVASCRIPT\n",
    "function saludo() {\n",
    "  console.log(\"¡Hola mundo!\");\n",
    "}\n",
    "saludo();  // Imprime: ¡Hola mundo!\n",
    "```\n",
    "\n",
    "- **Expresión de función:** Aquí, la función se asigna a una variable. Puede ser anónima (sin nombre) o nombrada.\n",
    "\n",
    "```JAVASCRIPT\n",
    "var saludo = function() {\n",
    "  console.log(\"¡Hola mundo!\");\n",
    "}\n",
    "saludo();  // Imprime: ¡Hola mundo!\n",
    "```\n",
    "\n",
    "- **Función de flecha:** Introducida en ES6, esta sintaxis es más concisa. Las funciones de flecha son especialmente útiles para escribir funciones cortas y para mantener el valor de this del contexto circundante.\n",
    "\n",
    "```JAVASCRIPT\n",
    "var saludo = () => {\n",
    "  console.log(\"¡Hola mundo!\");\n",
    "}\n",
    "saludo();  // Imprime: ¡Hola mundo!\n",
    "```\n",
    "\n",
    "Diferencias clave:\n",
    "\n",
    "- La declaración de función tiene hoisting (se puede llamar antes de la declaración), mientras que la expresión de función y la arrow function no.\n",
    "- Las arrow functions tienen una sintaxis más concisa y no cambian el valor de this.\n",
    "- Las expresiones de función pueden ser anónimas, lo que puede ser útil para funciones que no se utilizarán en ningún otro lugar."
   ]
  },
  {
   "cell_type": "markdown",
   "id": "469d5903",
   "metadata": {},
   "source": [
    "6. ¿Por qué es necesario el uso de funciones en el desarrollo web Frontend? Enumerar al menos tres razones fundamentales y proporcionar ejemplos de situaciones en las que las funciones son esenciales. Además, mencionar la ventaja de las funciones flecha en el contexto de estas razones.\n",
    "\n",
    "Es muy normal que en el mundo de la programación exista la necesidad de ``` reutilizar ``` el código para realizar una misma acción, la creación de las funciones ayuda a minimizar la redundancia y hace que el codigo sea más fácil de mantener.\n",
    "\n",
    "Las funciones permiten ```abstraer``` detalles de una implementación\n",
    "\n",
    "Las funciones ayudan a ```organizar``` el código en bloques lógicos manejables, permitiendo un buen flujo de trabajo y que el codigo sea legible y fácil de entender \n",
    "\n",
    "\n",
    "\n"
   ]
  },
  {
   "cell_type": "markdown",
   "id": "6d202be3",
   "metadata": {},
   "source": [
    "7. ¿Cuál es la diferencia entre parámetro y argumento?\n",
    "\n",
    " Un parámetro es una variable que se utiliza en la declaración de la función, mientras que un argumento es el valor real que se pasa a la función cuando se llama.\n",
    "\n",
    " Por ejemplo\n",
    "```JAVASCRIPT\n",
    " function suma(a, b) {\n",
    "    return a + b;\n",
    "}\n",
    "\n",
    "```\n",
    "En este caso, a y b son parámetros. Pero en el caso de llamar a la función como \n",
    "\n",
    "```JAVASCRIPT\n",
    "suma(5,3); \n",
    "```\n",
    "\n",
    "5 y 3 son argumentos que se pasan a la función suma\n"
   ]
  },
  {
   "cell_type": "markdown",
   "id": "5356074d",
   "metadata": {},
   "source": [
    "8.  Definir el concepto de Callback y proporcionar un ejemplo práctico.\n",
    "\n",
    "Un callback es una función que pasa como argumento de otra función y se ejecuta despues de que se completa cierta tarea, es un seguro que se le pone a una función para que no se ejecue hasta que otro proceso no haya terminado \n",
    "\n",
    "```JAVASCRIPT\n",
    "function saludar(nombre){ // Función que pasa como argumento o callback\n",
    "    console.log(\"Hola \"+ nombre);\n",
    "}\n",
    "\n",
    "function procesarEntradaUsuario(callback){ // Función que hace el llamado \n",
    "    let entrada = prompt('Ingrese su nombre: ');\n",
    "    callback(entrada);\n",
    "}\n",
    "\n",
    "procesarEntradaUsuario(saludar);\n",
    "```"
   ]
  },
  {
   "cell_type": "markdown",
   "id": "7b7bc9bd",
   "metadata": {},
   "source": [
    "9. ¿Qué es el hoisting en JavaScript y cómo afecta a las variables y funciones? \n",
    "Proporcionar ejemplos de hoisting en declaraciones de variables y funciones\n",
    "\n",
    "El hoisting es una caracteristica de lenguajes de alto nivel como Javascript en los que las declaraciones de variables y funciones son movidas al inicio del script que se este escribiendo, es decir, antes de ejecutarse el script, este se compila y al compilarse todas las funciones y variables se \"elevan\" al inicio del script. Esto hace posible que se pueden utilizar vairables y funciones incluso antes de que se declaren en el código.  \n",
    "\n",
    "\n",
    "El \"hoisting\" (elevación) es un comportamiento en JavaScript donde las declaraciones de variables y funciones son movidas (elevadas) al inicio de su contexto de ejecución durante la fase de compilación, antes de que se ejecute el código. Esto significa que puedes utilizar variables y funciones incluso antes de que se declaren en el código.\n",
    "\n",
    "Sin embargo, es importante entender que solo la declaración es elevada, no la inicialización (asignación de un valor)\n",
    "\n",
    "\n",
    "- Hoisting de variables: En este ejemplo, el interprete entiende que la variable existe y por eso no arroja error, sin embargo es undefined porque la inicialización no se ha hecho \n",
    "\n",
    "```JAVASCRIPT\n",
    "console.log(miVariable);  // Imprime: undefined\n",
    "var miVariable = 5;\n",
    "console.log(miVariable);  // Imprime: 5\n",
    "```\n",
    "- Hoisting con funciones: En este caso, la declaración completa de la función junto con el cuerpo se eleva, por lo que se puede llamar a la función antes de que se dclare en el código.\n",
    "\n",
    "```JAVASCRIPT\n",
    "miFuncion();  // Imprime: ¡Hola mundo!\n",
    "\n",
    "function miFuncion() {\n",
    "    console.log(\"¡Hola mundo!\");\n",
    "}\n",
    "```\n",
    "\n"
   ]
  },
  {
   "cell_type": "markdown",
   "id": "6b506e65",
   "metadata": {},
   "source": [
    "10. Definir brevemente el concepto de objeto en JavaScript y cuál es la visión general sobre este concepto. Indicar, también cómo se declaran estas estructuras de datos.\n",
    "\n",
    "Como se menciona en el enunciado son estructuras de datos que almacenan y organizan datos de manera eficiente en formto JSON, es decir, {clave: valor}, normalmente estas colecciones son llamadas propiedades y la manera de declarar las estructiras es mediante llaves `{}`\n",
    "\n",
    "Ejemplo : El objeto creado tiene dos las propiedades `nombre` y `edad` y un método saludo. \n",
    "\n",
    "```javascript\n",
    "let miObjeto = {\n",
    "  nombre: 'Juan',\n",
    "  edad: 30,\n",
    "  saludo: function() {\n",
    "    console.log('¡Hola, mi nombre es ' + this.nombre + '!');\n",
    "  }\n",
    "};\n",
    "\n",
    "miObjeto.saludo();  // Imprime: ¡Hola, mi nombre es Juan!\n",
    "\n",
    "\n"
   ]
  },
  {
   "cell_type": "markdown",
   "id": "d8279749",
   "metadata": {},
   "source": [
    "11. ¿Qué son propiedades?, y ¿Cuál es la diferencia entre una propiedad y un método en \n",
    "un objeto?\n",
    "\n",
    "Como se menciona en el literal anterior una propiedad es una asociación entre una clave y un valor dentro de un objeto, el cual puede ser cualquier tipo de dato soportado por Javascript (nombre y edad), mientras que un método es una propiedad de un objeto cuyo valor es una función (saludo())."
   ]
  },
  {
   "cell_type": "markdown",
   "id": "7624836c",
   "metadata": {},
   "source": [
    "12. Explicar las dos formas de acceder a una propiedad de objetos e indicar las situaciones \n",
    "en que conviene usar una manera sobre la otra.\n",
    "\n",
    "```javascript\n",
    "\n",
    "// Notación de punto\n",
    "console.log(miObjeto.nombre);  // Imprime: Juan\n",
    "\n",
    "// Notación de corchetes\n",
    "console.log(miObjeto['edad']);  // Imprime: 30\n",
    "```\n",
    "\n",
    "Usas la notación de punto cuando conoces el nombre de la propiedad. La notación de corchetes es útil cuando el nombre de la propiedad está almacenado en una variable o cuando el nombre de la propiedad no es un identificador JavaScript válido (como cuando tiene espacios o caracteres especiales).\n",
    "\n"
   ]
  },
  {
   "cell_type": "markdown",
   "id": "2651018f",
   "metadata": {},
   "source": [
    "13. Sí, puedes recorrer las propiedades de un objeto utilizando un bucle `for...in`.\n",
    "\n",
    "```javascript\n",
    "for (let propiedad in miObjeto) {\n",
    "  console.log(`La propiedad ${propiedad} tiene el valor ${miObjeto[propiedad]}`);\n",
    "}\n",
    "```\n",
    "\n",
    "Esto es útil cuando necesitas operar en todas las propiedades de un objeto, como cuando estás serializando el objeto a JSON o mostrando sus propiedades en la interfaz de usuario.\n"
   ]
  },
  {
   "cell_type": "markdown",
   "id": "1df7fb2e",
   "metadata": {},
   "source": [
    "\n",
    "14. Los objetos son útiles en la programación web porque permiten agrupar datos relacionados y funciones (métodos) en una sola entidad. Los objetos pueden almacenar cualquier tipo de datos en JavaScript, incluyendo números, cadenas, booleanos, arrays, otros objetos, y funciones.\n"
   ]
  },
  {
   "cell_type": "markdown",
   "id": "7d3a9970",
   "metadata": {},
   "source": [
    "\n",
    "15. Un array en JavaScript es una estructura de datos que almacena una colección de elementos en un solo valor. Los arrays son esenciales porque permiten trabajar con múltiples valores de una manera estructurada y fácil de manejar."
   ]
  },
  {
   "cell_type": "markdown",
   "id": "df3aea53",
   "metadata": {},
   "source": [
    "\n",
    "\n",
    "16. Puedes acceder a un elemento de un array utilizando su índice entre corchetes.\n",
    "\n",
    "```javascript\n",
    "let miArray = ['manzana', 'banana', 'cereza'];\n",
    "console.log(miArray[1]);  // Imprime: banana\n",
    "```\n"
   ]
  },
  {
   "cell_type": "markdown",
   "id": "f7e07cbc",
   "metadata": {},
   "source": [
    "\n",
    "17. Algunas funciones útiles de arrays en JavaScript son `map`, `filter`, y `reduce`. `map` transforma todos los elementos de un array, `filter` selecciona ciertos elementos basándose en una condición, y `reduce` combina todos los elementos en un solo valor."
   ]
  },
  {
   "cell_type": "markdown",
   "id": "cd49c4f0",
   "metadata": {},
   "source": [
    "\n",
    "\n",
    "18. \n",
    "\n",
    "```javascript\n",
    "let numeros = [1, 2, 3, 4, 5];\n",
    "\n",
    "let cuadrados = numeros.map(num => num * num);  // [1, 4, 9, 16, 25]\n",
    "\n",
    "let grandes = cuadrados.filter(num => num > 10);  // [16, 25]\n",
    "```"
   ]
  },
  {
   "cell_type": "markdown",
   "id": "05a4876b",
   "metadata": {},
   "source": [
    "### PREGUNTAS PRÁCTICAS"
   ]
  },
  {
   "cell_type": "markdown",
   "id": "6830b6a2",
   "metadata": {},
   "source": [
    " 1. Escribir un programa con JavaScript que resuelva el siguiente problema: Dada una lista (o array) de números enteros, encontrar el número más grande de la lista y mostrarlo en consola. No se debe usar la función Math.max(), ni .forEach().\n"
   ]
  },
  {
   "cell_type": "code",
   "execution_count": 14,
   "id": "b116368e",
   "metadata": {},
   "outputs": [],
   "source": [
    "// Esta función es de complejidad 5\n",
    "function biggestNumber(arr) {\n",
    "    let maxNumber = 0;\n",
    "    for(let i = 0; i < arr.length; i++) {\n",
    "        if(typeof arr[i] === 'number' && arr[i] > maxNumber) {\n",
    "            maxNumber = arr[i];\n",
    "        }\n",
    "    }\n",
    "    return maxNumber;\n",
    "}\n"
   ]
  },
  {
   "cell_type": "code",
   "execution_count": 16,
   "id": "10cec427",
   "metadata": {},
   "outputs": [
    {
     "name": "stdout",
     "output_type": "stream",
     "text": [
      "8\n"
     ]
    }
   ],
   "source": [
    "let arraycito = [3, 2, 5, 7, 1, 8];\n",
    "console.log(biggestNumber(arraycito));\n"
   ]
  },
  {
   "cell_type": "code",
   "execution_count": 19,
   "id": "4418c0c6",
   "metadata": {},
   "outputs": [
    {
     "name": "stdout",
     "output_type": "stream",
     "text": [
      "18\n"
     ]
    }
   ],
   "source": [
    "let arraycitojunior = [1,3,5,7,9,'w','h', 18, 3, 'z']\n",
    "console.log(biggestNumber(arraycitojunior));"
   ]
  },
  {
   "cell_type": "markdown",
   "id": "042ab62e",
   "metadata": {},
   "source": [
    "Escribir una función en JavaScript que tome dos números como argumentos y devuelva su suma. Luego, escribir la misma función utilizando una función flecha (arrow function) y comparar ambas declaraciones. Llamar a ambas funciones con valores de ejemplo y \n",
    "mostrar los resultados en la consola del navegador."
   ]
  }
 ],
 "metadata": {
  "kernelspec": {
   "display_name": "JavaScript (Node.js)",
   "language": "javascript",
   "name": "javascript"
  },
  "language_info": {
   "file_extension": ".js",
   "mimetype": "application/javascript",
   "name": "javascript",
   "version": "18.17.1"
  }
 },
 "nbformat": 4,
 "nbformat_minor": 5
}
