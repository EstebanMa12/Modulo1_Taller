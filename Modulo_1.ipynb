{
 "cells": [
  {
   "cell_type": "markdown",
   "metadata": {},
   "source": [
    "## Módulo sobre la lógica, lógica de programación y programación con Javascript\n"
   ]
  },
  {
   "cell_type": "markdown",
   "metadata": {},
   "source": [
    "1. ¿Qué es la lógica en el contexto de la programación?\n",
    "La lógica en el contexto de la programación es el saber cómo y en que momento implementar los algoritmos para resolver un problema, sin importar si se utiliza una u otra técnica o lenguaje de programación. Es decir, es el conocimiento del pensamiento lógico y su aplicación a la solución de problemas informáticos.\n",
    "Es importante en el desarrollo front end para de esta manera poder crear \n"
   ]
  },
  {
   "cell_type": "code",
   "execution_count": 1,
   "id": "66850032",
   "metadata": {},
   "outputs": [
    {
     "name": "stdout",
     "output_type": "stream",
     "text": [
      "Hola mundo\n"
     ]
    }
   ],
   "source": [
    "console.log(\"Hola mundo\");"
   ]
  },
  {
   "cell_type": "code",
   "execution_count": null,
   "metadata": {},
   "outputs": [],
   "source": []
  }
 ],
 "metadata": {
  "kernelspec": {
   "display_name": "JavaScript (Node.js)",
   "language": "javascript",
   "name": "javascript"
  },
  "language_info": {
   "file_extension": ".js",
   "mimetype": "application/javascript",
   "name": "javascript",
   "version": "18.17.1"
  }
 },
 "nbformat": 4,
 "nbformat_minor": 5
}
